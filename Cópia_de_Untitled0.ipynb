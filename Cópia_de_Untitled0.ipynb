{
  "nbformat": 4,
  "nbformat_minor": 0,
  "metadata": {
    "colab": {
      "provenance": [],
      "authorship_tag": "ABX9TyP+VXLsWu2Niv1yoCeSLGW2",
      "include_colab_link": true
    },
    "kernelspec": {
      "name": "python3",
      "display_name": "Python 3"
    },
    "language_info": {
      "name": "python"
    }
  },
  "cells": [
    {
      "cell_type": "markdown",
      "metadata": {
        "id": "view-in-github",
        "colab_type": "text"
      },
      "source": [
        "<a href=\"https://colab.research.google.com/github/xBlcat/Brunno/blob/main/C%C3%B3pia_de_Untitled0.ipynb\" target=\"_parent\"><img src=\"https://colab.research.google.com/assets/colab-badge.svg\" alt=\"Open In Colab\"/></a>"
      ]
    },
    {
      "cell_type": "code",
      "execution_count": null,
      "metadata": {
        "colab": {
          "base_uri": "https://localhost:8080/"
        },
        "id": "CY83wHPM2MV5",
        "outputId": "fc3f2270-b678-4e26-b8ee-db45086e552a"
      },
      "outputs": [
        {
          "output_type": "stream",
          "name": "stdout",
          "text": [
            "Qual o valor do litro do combustivel (R$): 5,00\n",
            "Qual o valor em dinheiro que deseja abastecer?\n",
            " valor (R$): 20,00\n",
            "quantidade em litros: 4.0\n"
          ]
        }
      ],
      "source": [
        "valorDigitado = input('Qual o valor do litro do combustivel (R$): ')\n",
        "valor = float(valorDigitado.replace(',' , '.'))\n",
        "valorDinheiro = input(\"Qual o valor em dinheiro que deseja abastecer?\\n valor (R$): \")\n",
        "valorDinheiro = float(valorDinheiro.replace(',' , '.'))\n",
        "quantidadeCombustivel = valorDinheiro / valor\n",
        "print(f\"quantidade em litros: {quantidadeCombustivel}\")\n"
      ]
    },
    {
      "cell_type": "code",
      "source": [
        "valorInicial = input('Informe a quilometragem inicial (km): ')\n",
        "valorI= int(valorInicial)\n",
        "valorFinal = input('informe a quilometragem percorrida (Km)')\n",
        "valorF = int(valorFinal)\n",
        "valorConsumo = input('Quantos Km/L seu veículo consumiu? (L):')\n",
        "valorC = float(valorConsumo.replace(',' , '.'))\n",
        "valorKm = valorF - valorI\n",
        "valorCM = valorKm / valorC\n",
        "print(f'quantidade média de Km/L foi de: {valorCM} (média)')"
      ],
      "metadata": {
        "colab": {
          "base_uri": "https://localhost:8080/"
        },
        "id": "948ar3gp98y3",
        "outputId": "f6a4b6ba-2143-400c-e404-00b96f3a2c01"
      },
      "execution_count": null,
      "outputs": [
        {
          "output_type": "stream",
          "name": "stdout",
          "text": [
            "Informe a quilometragem inicial (km): 1000\n",
            "informe a quilometragem percorrida (Km)1500\n",
            "Quantos Km/L seu veículo consumiu? (L):5,53\n",
            "quantidade média de Km/L foi de: 90.41591320072332 (média)\n"
          ]
        }
      ]
    },
    {
      "cell_type": "code",
      "source": [
        "dividaInicial = int(input('Informe a dívida inicial: '))\n",
        "quantidadeAtraso = int(input('Quantos dias de atraso? '))\n",
        "multaDia = float(input('Valor da multa diaria? ').replace(',' , '.'))\n",
        "valorTotal = quantidadeAtraso * multaDia + dividaInicial\n",
        "print(f'Dívida total foi de: {valorTotal}')"
      ],
      "metadata": {
        "id": "qOgs51zbG9hG",
        "colab": {
          "base_uri": "https://localhost:8080/"
        },
        "outputId": "24e3767a-f643-404b-9a48-e9597fb1f392"
      },
      "execution_count": null,
      "outputs": [
        {
          "output_type": "stream",
          "name": "stdout",
          "text": [
            "Informe a dívida inicial: 1000\n",
            "Quantos dias de atraso? 30\n",
            "Valor da multa diaria? 3,27\n",
            "Dívida total foi de: 1098.1\n"
          ]
        }
      ]
    },
    {
      "cell_type": "code",
      "source": [
        "comodoAab = float(input('comprimento do comodo A? ').replace(',' , '.'))\n",
        "comodoAh = float(input('qual a altura do comodo A?').replace(',' , '.'))\n",
        "comodoAtotal = comodoAab * comodoAh\n",
        "comodoBab = float(input('comprimento do comodo B? ').replace(',' , '.'))\n",
        "comodoBh = float(input('qual a altura do comodo B?').replace(',' , '.'))\n",
        "comodoBtotal = comodoBab * comodoBh\n",
        "comodoCab = float(input('comprimento do comodo C? ').replace(',' , '.'))\n",
        "comodoCh = float(input('qual a altura do comodo C?').replace(',' , '.'))\n",
        "comodoCtotal = comodoCab * comodoCh\n",
        "comodoDab = float(input('comprimento do comodo D? ').replace(',' , '.'))\n",
        "comodoDh = float(input('qual a altura do comodo D? ').replace(',' , '.'))\n",
        "comodoDtotal = comodoDab * comodoDh\n",
        "areaTotal = comodoAtotal + comodoBtotal + comodoCtotal + comodoDtotal\n",
        "print(f'área total da casa é de: {areaTotal}')"
      ],
      "metadata": {
        "colab": {
          "base_uri": "https://localhost:8080/"
        },
        "id": "atgasWH5Em0e",
        "outputId": "3d831042-8fda-4c6d-82d5-d0cb872f3b95"
      },
      "execution_count": null,
      "outputs": [
        {
          "output_type": "stream",
          "name": "stdout",
          "text": [
            "comprimento do comodo A? 3,21\n",
            "qual a altura do comodo A?3,87\n",
            "comprimento do comodo B? 3,28\n",
            "qual a altura do comodo B?3,87\n",
            "comprimento do comodo C? 3,21\n",
            "qual a altura do comodo C?3,87\n",
            "comprimento do comodo D? 3,28\n",
            "qual a altura do comodo D? 3,87\n",
            "área total da casa é de: 50.232600000000005\n"
          ]
        }
      ]
    },
    {
      "cell_type": "code",
      "source": [
        "valorDolar = float(input(\" \").replace(',' , '.'))\n",
        "quantidadeReal = int(input(\" \"))\n",
        "converçao = quantidadeReal * valorDolar\n",
        "print(f'{converçao}')"
      ],
      "metadata": {
        "colab": {
          "base_uri": "https://localhost:8080/"
        },
        "id": "kGGi9tlySCye",
        "outputId": "8c7178dd-398c-4fd7-9c2e-be2159c7136e"
      },
      "execution_count": null,
      "outputs": [
        {
          "output_type": "stream",
          "name": "stdout",
          "text": [
            " 5,43\n",
            " 1000\n",
            "5430.0\n"
          ]
        }
      ]
    },
    {
      "cell_type": "code",
      "source": [
        "salarioAtual = int(input(' '))\n",
        "reajusteSalarial = float(input(' ').replace(',' , '.'))\n",
        "porcentagem = reajusteSalarial / 100\n",
        "salarioTotal = salarioAtual * porcentagem + 1400\n",
        "print(f'{salarioTotal}')\n"
      ],
      "metadata": {
        "colab": {
          "base_uri": "https://localhost:8080/"
        },
        "id": "cbJA38AYUNSs",
        "outputId": "e0545cf2-a8ad-4cc8-b727-5f52cda4c32a"
      },
      "execution_count": null,
      "outputs": [
        {
          "output_type": "stream",
          "name": "stdout",
          "text": [
            " 1400\n",
            " 13,5\n",
            "1589.0\n"
          ]
        }
      ]
    },
    {
      "cell_type": "code",
      "source": [
        "valorMensal = int(input(' '))\n",
        "despesaMensal = int(input(' '))\n",
        "sobra = valorMensal - despesaMensal\n",
        "valorAno = sobra * 12\n",
        "totalAno = 1000000 / valorAno\n",
        "print(f'{totalAno}')"
      ],
      "metadata": {
        "colab": {
          "base_uri": "https://localhost:8080/"
        },
        "id": "VKEIAGcFX6oA",
        "outputId": "e66b0309-5089-4ff6-e15f-14bd7348b925"
      },
      "execution_count": null,
      "outputs": [
        {
          "output_type": "stream",
          "name": "stdout",
          "text": [
            " 7500\n",
            " 4000\n",
            "23.80952380952381\n"
          ]
        }
      ]
    },
    {
      "cell_type": "code",
      "source": [
        "numeroAleatorio = int(input(' '))\n",
        "sequenciaNumerica = numeroAleatorio - 2 , numeroAleatorio - 1 , numeroAleatorio , numeroAleatorio + 1 , numeroAleatorio + 2\n",
        "print(f'{sequenciaNumerica}')"
      ],
      "metadata": {
        "colab": {
          "base_uri": "https://localhost:8080/"
        },
        "id": "jwwtyExTncvf",
        "outputId": "f45a72e3-7d4f-4bc8-fdb6-bfc61e62bd01"
      },
      "execution_count": null,
      "outputs": [
        {
          "output_type": "stream",
          "name": "stdout",
          "text": [
            " 5\n",
            "(3, 4, 5, 6, 7)\n"
          ]
        }
      ]
    },
    {
      "cell_type": "code",
      "source": [
        "nomePessoa = input('Qual é seu nome? ')\n",
        "anoNascido = int(input('Qual o ano do seu nascimento? '))\n",
        "anoAtual = int('2024')\n",
        "idadePessoa = anoAtual - anoNascido\n",
        "print(f'Nome: {nomePessoa}'); print(f'Sua idade: {idadePessoa}')"
      ],
      "metadata": {
        "colab": {
          "base_uri": "https://localhost:8080/"
        },
        "id": "1uZls6X1vWuC",
        "outputId": "8c5d8623-95aa-41d8-9300-aba0387f989a"
      },
      "execution_count": null,
      "outputs": [
        {
          "output_type": "stream",
          "name": "stdout",
          "text": [
            "Qual é seu nome? Brunno\n",
            "Qual o ano do seu nascimento? 2005\n",
            "Nome: Brunno\n",
            "Sua idade: 19\n"
          ]
        }
      ]
    },
    {
      "cell_type": "code",
      "source": [
        "larguraSala = float(input(' ').replace(',' , '.'))\n",
        "comprimentoSala = float(input(' ').replace(',' , '.')) -1.5\n",
        "quantidadeFileira = larguraSala / 0.5\n",
        "quantidadePfileira = comprimentoSala / 0.2\n",
        "quantidadeTotal = quantidadeFileira * quantidadePfileira\n",
        "print(f'{quantidadeTotal}')"
      ],
      "metadata": {
        "id": "SSAOWwNlxMod",
        "colab": {
          "base_uri": "https://localhost:8080/"
        },
        "outputId": "f1dcb676-d244-47cb-a1cd-6be229d94d96"
      },
      "execution_count": 31,
      "outputs": [
        {
          "output_type": "stream",
          "name": "stdout",
          "text": [
            " 4\n",
            " 5\n",
            "140.0\n"
          ]
        }
      ]
    }
  ]
}